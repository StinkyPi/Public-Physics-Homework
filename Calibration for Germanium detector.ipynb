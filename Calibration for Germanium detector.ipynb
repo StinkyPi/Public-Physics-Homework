{
 "cells": [
  {
   "cell_type": "code",
   "execution_count": 1,
   "metadata": {},
   "outputs": [],
   "source": [
    "import numpy as np\n",
    "from matplotlib import pyplot as plt"
   ]
  },
  {
   "cell_type": "code",
   "execution_count": 2,
   "metadata": {},
   "outputs": [
    {
     "name": "stdout",
     "output_type": "stream",
     "text": [
      "x= [ 511.    1274.537 1173.228 1332.492  661.65 ]\n",
      "y= [1511.94 3840.38 3531.34 4016.79 1972.03]\n",
      "sig= [4.9    5.15   5.19   4.4    3.6914]\n"
     ]
    }
   ],
   "source": [
    "y,x, sig= np.loadtxt('Calibration data.txt',usecols=(0,1,2),unpack=True)\n",
    "print(\"x=\",x)\n",
    "print(\"y=\",y)\n",
    "print(\"sig=\",sig)"
   ]
  },
  {
   "cell_type": "code",
   "execution_count": 3,
   "metadata": {
    "scrolled": true
   },
   "outputs": [
    {
     "name": "stdout",
     "output_type": "stream",
     "text": [
      "best slope a=  3.05 +/-  0.01\n",
      "best intercept b= -45.51 +/-  6.10\n"
     ]
    },
    {
     "data": {
      "text/plain": [
       "Text(0.5, 0, 'measurement number')"
      ]
     },
     "execution_count": 3,
     "metadata": {},
     "output_type": "execute_result"
    },
    {
     "data": {
      "image/png": "[encoded data removed]",
      "text/plain": [
       "<Figure size 432x288 with 1 Axes>"
      ]
     },
     "metadata": {
      "needs_background": "light"
     },
     "output_type": "display_data"
    }
   ],
   "source": [
    "## this is the method to do the best fit we saw in class\n",
    "A=np.sum(x/sig**2)\n",
    "B=np.sum(1./sig**2)\n",
    "C=np.sum(y/sig**2)\n",
    "D=np.sum(x**2/sig**2)\n",
    "E=np.sum(x*y/sig**2)\n",
    "\n",
    "a=(E*B-C*A)/(D*B-A**2)\n",
    "b=(D*C-E*A)/(D*B-A**2)\n",
    "sig_a=np.sqrt((B/(D*B-A**2)))\n",
    "sig_b=np.sqrt(D/(D*B-A**2))\n",
    "\n",
    "print('best slope a= %5.2f' % a,'+/- %5.2f' % sig_a)\n",
    "print('best intercept b= %5.2f' %b, '+/- %5.2f' %sig_b)\n",
    "plt.figure(2)\n",
    "plt.plot(x,y,ls='none',marker='*')\n",
    "plt.errorbar(x,y,xerr=None, yerr=sig, fmt='none')\n",
    "y_linear=a*x+b\n",
    "plt.plot(x,y_linear,'r--')\n",
    "plt.ylabel('y')\n",
    "plt.xlabel('measurement number')\n",
    "\n",
    "##################\n",
    "## you could also use the method described in \n",
    "## https://faculty1.coloradocollege.edu/~sburns/LinearFitting/SimpleDataFittingWithError.html"
   ]
  },
  {
   "cell_type": "code",
   "execution_count": 4,
   "metadata": {},
   "outputs": [
    {
     "name": "stdout",
     "output_type": "stream",
     "text": [
      "[9.17168927e-03 6.49984732e-04 6.57731635e-05 1.15389694e-03\n",
      " 7.76865220e-03]\n",
      "chi-quared=  0.02 \n",
      "reduced chi-squared= 0.01\n"
     ]
    }
   ],
   "source": [
    "# to see how good is the fit, one needs to compute the chi-squared\n",
    "chi_individual=((y-(a*x+b))/sig)**2\n",
    "print (chi_individual)\n",
    "chi_squared=np.sum(chi_individual)\n",
    "print('chi-quared= %5.2f ' % chi_squared)\n",
    "print('reduced chi-squared=%5.2f' %(chi_squared/(len(x)-2)))\n",
    "# you can go an compare this chi-squared to the table of chi-squared say in wikipedia. This value is very good \n",
    "# resulting in more 70% probability that these data are indeed linearly correlated"
   ]
  },
  {
   "cell_type": "code",
   "execution_count": 5,
   "metadata": {},
   "outputs": [
    {
     "data": {
      "text/plain": [
       "Text(0.5, 0, 'measurement number')"
      ]
     },
     "execution_count": 5,
     "metadata": {},
     "output_type": "execute_result"
    },
    {
     "data": {
      "image/png": "[encoded data removed]",
      "text/plain": [
       "<Figure size 432x288 with 1 Axes>"
      ]
     },
     "metadata": {
      "needs_background": "light"
     },
     "output_type": "display_data"
    }
   ],
   "source": [
    "# now onto plotting the residuals\n",
    "y_res=y-(a*x+b)\n",
    "plt.figure(1)\n",
    "plt.plot(x,y_res,ls='none',marker='*')\n",
    "plt.errorbar(x,y_res,xerr=None, yerr=sig, fmt='none')\n",
    "zero=np.array([0,0,0,0,0])\n",
    "plt.plot(x,zero,'r--')\n",
    "plt.ylabel('residual')\n",
    "plt.xlabel('measurement number')"
   ]
  },
  {
   "cell_type": "code",
   "execution_count": 11,
   "metadata": {},
   "outputs": [
    {
     "name": "stdout",
     "output_type": "stream",
     "text": [
      "[ 324.078  699.34  1002.98  2333.32  2894.85 ]\n",
      "[4.55 3.88 3.76 5.4  4.31]\n",
      "[121.22445193 244.31130126 343.90596028 780.26071815 964.44392484]\n",
      "[1.49241107 1.27264944 1.23328915 1.77121314 1.41369049]\n"
     ]
    }
   ],
   "source": [
    "Eu, eu_sig=np.loadtxt('Europium peaks.txt',usecols=(0,1),unpack=True)\n",
    "print(Eu)\n",
    "print(eu_sig)\n",
    "Energy=(Eu-b)/a\n",
    "Error=eu_sig/a\n",
    "print(Energy)\n",
    "print(Error)"
   ]
  },
  {
   "cell_type": "code",
   "execution_count": null,
   "metadata": {},
   "outputs": [],
   "source": []
  }
 ],
 "metadata": {
  "kernelspec": {
   "display_name": "Python 3",
   "language": "python",
   "name": "python3"
  },
  "language_info": {
   "codemirror_mode": {
    "name": "ipython",
    "version": 3
   },
   "file_extension": ".py",
   "mimetype": "text/x-python",
   "name": "python",
   "nbconvert_exporter": "python",
   "pygments_lexer": "ipython3",
   "version": "3.8.5"
  }
 },
 "nbformat": 4,
 "nbformat_minor": 5
}
